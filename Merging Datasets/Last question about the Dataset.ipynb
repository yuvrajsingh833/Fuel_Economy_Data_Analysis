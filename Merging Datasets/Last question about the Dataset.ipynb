{
 "cells": [
  {
   "cell_type": "markdown",
   "metadata": {},
   "source": [
    "# Results with Merged Dataset\n",
    "#### Q5: For all of the models that were produced in 2008 that are still being produced now, how much has the mpg improved and which vehicle improved the most?\n",
    "Remember to use your new dataset: `combined_dataset.csv`."
   ]
  },
  {
   "cell_type": "code",
   "execution_count": 1,
   "metadata": {},
   "outputs": [],
   "source": [
    "import numpy as np\n",
    "import pandas as pd\n",
    "import matplotlib.pyplot as plt\n",
    "%matplotlib inline\n",
    "import seaborn as sns"
   ]
  },
  {
   "cell_type": "code",
   "execution_count": 2,
   "metadata": {},
   "outputs": [],
   "source": [
    "# load dataset\n",
    "\n",
    "df = pd.read_csv('combined_dataset.csv')"
   ]
  },
  {
   "cell_type": "markdown",
   "metadata": {
    "collapsed": true
   },
   "source": [
    "### 1. Create a new dataframe, `model_mpg`, that contain the mean combined mpg values in 2008 and 2018 for each unique model\n",
    "\n",
    "To do this, group by `model` and find the mean `cmb_mpg_2008` and mean `cmb_mpg` for each."
   ]
  },
  {
   "cell_type": "code",
   "execution_count": 3,
   "metadata": {},
   "outputs": [],
   "source": [
    "model_mpg = df.groupby('model').mean()[['cmb_mpg_2008', 'cmb_mpg']]"
   ]
  },
  {
   "cell_type": "code",
   "execution_count": 4,
   "metadata": {},
   "outputs": [
    {
     "data": {
      "text/html": [
       "<div>\n",
       "<style scoped>\n",
       "    .dataframe tbody tr th:only-of-type {\n",
       "        vertical-align: middle;\n",
       "    }\n",
       "\n",
       "    .dataframe tbody tr th {\n",
       "        vertical-align: top;\n",
       "    }\n",
       "\n",
       "    .dataframe thead th {\n",
       "        text-align: right;\n",
       "    }\n",
       "</style>\n",
       "<table border=\"1\" class=\"dataframe\">\n",
       "  <thead>\n",
       "    <tr style=\"text-align: right;\">\n",
       "      <th></th>\n",
       "      <th>cmb_mpg_2008</th>\n",
       "      <th>cmb_mpg</th>\n",
       "    </tr>\n",
       "    <tr>\n",
       "      <th>model</th>\n",
       "      <th></th>\n",
       "      <th></th>\n",
       "    </tr>\n",
       "  </thead>\n",
       "  <tbody>\n",
       "    <tr>\n",
       "      <th>ACURA RDX</th>\n",
       "      <td>19.000000</td>\n",
       "      <td>22.500000</td>\n",
       "    </tr>\n",
       "    <tr>\n",
       "      <th>AUDI A3</th>\n",
       "      <td>23.333333</td>\n",
       "      <td>28.000000</td>\n",
       "    </tr>\n",
       "    <tr>\n",
       "      <th>AUDI A4</th>\n",
       "      <td>21.000000</td>\n",
       "      <td>27.000000</td>\n",
       "    </tr>\n",
       "    <tr>\n",
       "      <th>AUDI A6</th>\n",
       "      <td>19.666667</td>\n",
       "      <td>25.666667</td>\n",
       "    </tr>\n",
       "    <tr>\n",
       "      <th>AUDI A8 L</th>\n",
       "      <td>16.500000</td>\n",
       "      <td>22.000000</td>\n",
       "    </tr>\n",
       "  </tbody>\n",
       "</table>\n",
       "</div>"
      ],
      "text/plain": [
       "           cmb_mpg_2008    cmb_mpg\n",
       "model                             \n",
       "ACURA RDX     19.000000  22.500000\n",
       "AUDI A3       23.333333  28.000000\n",
       "AUDI A4       21.000000  27.000000\n",
       "AUDI A6       19.666667  25.666667\n",
       "AUDI A8 L     16.500000  22.000000"
      ]
     },
     "execution_count": 4,
     "metadata": {},
     "output_type": "execute_result"
    }
   ],
   "source": [
    "model_mpg.head()"
   ]
  },
  {
   "cell_type": "markdown",
   "metadata": {},
   "source": [
    "### 2. Create a new column, `mpg_change`, with the change in mpg\n",
    "Subtract the mean mpg in 2008 from that in 2018 to get the change in mpg"
   ]
  },
  {
   "cell_type": "code",
   "execution_count": 5,
   "metadata": {},
   "outputs": [],
   "source": [
    "model_mpg['mpg_change'] = model_mpg['cmb_mpg'] - model_mpg['cmb_mpg_2008']"
   ]
  },
  {
   "cell_type": "code",
   "execution_count": 6,
   "metadata": {
    "scrolled": true
   },
   "outputs": [
    {
     "name": "stdout",
     "output_type": "stream",
     "text": [
      "                             cmb_mpg_2008    cmb_mpg  mpg_change\n",
      "model                                                           \n",
      "ACURA RDX                       19.000000  22.500000    3.500000\n",
      "AUDI A3                         23.333333  28.000000    4.666667\n",
      "AUDI A4                         21.000000  27.000000    6.000000\n",
      "AUDI A6                         19.666667  25.666667    6.000000\n",
      "AUDI A8 L                       16.500000  22.000000    5.500000\n",
      "AUDI Q7                         15.000000  21.000000    6.000000\n",
      "AUDI S4                         15.500000  24.000000    8.500000\n",
      "AUDI S5                         16.000000  24.000000    8.000000\n",
      "AUDI TT Coupe                   21.666667  26.000000    4.333333\n",
      "AUDI TT Roadster                21.333333  26.000000    4.666667\n",
      "BMW 750i                        20.000000  19.500000   -0.500000\n",
      "BMW Alpina B7                   18.000000  19.000000    1.000000\n",
      "BMW M6 Convertible              14.000000  16.500000    2.500000\n",
      "CADILLAC CTS                    20.000000  22.800000    2.800000\n",
      "CADILLAC Escalade               14.000000  17.000000    3.000000\n",
      "CHEVROLET Corvette              18.000000  17.750000   -0.250000\n",
      "CHEVROLET Equinox               19.000000  27.833333    8.833333\n",
      "CHEVROLET Impala                20.500000  21.250000    0.750000\n",
      "CHEVROLET Malibu                22.333333  33.000000   10.666667\n",
      "CHEVROLET Silverado 15          16.000000  17.312500    1.312500\n",
      "CHEVROLET Tahoe 1500            14.000000  16.875000    2.875000\n",
      "CHRYSLER 300                    18.800000  20.000000    1.200000\n",
      "CHRYSLER Pacifica               17.333333  22.000000    4.666667\n",
      "DODGE Challenger                15.000000  19.000000    4.000000\n",
      "DODGE Charger                   18.800000  19.750000    0.950000\n",
      "DODGE Durango                   15.200000  19.000000    3.800000\n",
      "FORD F150                       15.000000  19.545455    4.545455\n",
      "FORD Fusion                     21.333333  24.000000    2.666667\n",
      "GMC Acadia                      18.500000  21.750000    3.250000\n",
      "GMC Sierra 15                   15.200000  17.312500    2.112500\n",
      "GMC Yukon 1500                  14.000000  16.875000    2.875000\n",
      "HONDA Fit                       30.000000  33.333333    3.333333\n",
      "HONDA Ridgeline                 17.000000  21.500000    4.500000\n",
      "HYUNDAI Elantra                 27.666667  30.333333    2.666667\n",
      "HYUNDAI Santa Fe                19.500000  20.500000    1.000000\n",
      "HYUNDAI Sonata                  23.666667  28.250000    4.583333\n",
      "JEEP Compass                    23.666667  25.250000    1.583333\n",
      "JEEP Grand Cherokee             15.142857  19.666667    4.523810\n",
      "KIA Optima                      25.000000  28.000000    3.000000\n",
      "KIA Rio                         29.000000  32.000000    3.000000\n",
      "KIA Sedona                      18.000000  20.000000    2.000000\n",
      "KIA Sorento                     17.000000  21.666667    4.666667\n",
      "KIA Sportage                    20.600000  23.333333    2.733333\n",
      "LEXUS LX 570                    14.000000  15.000000    1.000000\n",
      "MASERATI Granturismo            17.000000  16.000000   -1.000000\n",
      "MAZDA 3                         24.400000  30.833333    6.433333\n",
      "MAZDA CX-9                      17.500000  23.500000    6.000000\n",
      "MERCEDES-BENZ C300              18.000000  25.666667    7.666667\n",
      "MERCEDES-BENZ SL550             16.000000  20.000000    4.000000\n",
      "NISSAN Armada                   14.000000  15.500000    1.500000\n",
      "NISSAN Versa                    28.000000  31.400000    3.400000\n",
      "PORSCHE 911 Turbo               18.000000  21.000000    3.000000\n",
      "PORSCHE 911 Turbo Cabriolet     18.000000  21.000000    3.000000\n",
      "PORSCHE Boxster                 22.000000  24.500000    2.500000\n",
      "PORSCHE Boxster S               21.000000  23.000000    2.000000\n",
      "PORSCHE Cayenne S               15.000000  20.000000    5.000000\n",
      "SUBARU Forester                 21.500000  25.666667    4.166667\n",
      "SUBARU Impreza                  21.750000  29.000000    7.250000\n",
      "SUBARU Legacy                   21.125000  26.000000    4.875000\n",
      "TOYOTA 4Runner                  16.750000  18.000000    1.250000\n",
      "TOYOTA Avalon                   22.000000  24.000000    2.000000\n",
      "TOYOTA Camry                    24.250000  30.000000    5.750000\n",
      "TOYOTA Corolla                  30.000000  31.000000    1.000000\n",
      "TOYOTA Land Cruiser             15.000000  15.000000    0.000000\n",
      "TOYOTA RAV4                     22.250000  25.000000    2.750000\n",
      "TOYOTA Sequoia                  14.750000  14.500000   -0.250000\n",
      "TOYOTA Tundra                   15.400000  15.250000   -0.150000\n",
      "TOYOTA Yaris                    31.500000  32.500000    1.000000\n",
      "VOLKSWAGEN Jetta                24.166667  30.000000    5.833333\n",
      "VOLKSWAGEN Passat               21.250000  29.000000    7.750000\n",
      "VOLVO S60                       21.333333  27.000000    5.666667\n",
      "VOLVO XC 90                     15.666667  32.200000   16.533333\n"
     ]
    }
   ],
   "source": [
    "pd.set_option('display.max_rows', model_mpg.shape[0]+1)\n",
    "print(model_mpg)"
   ]
  },
  {
   "cell_type": "markdown",
   "metadata": {},
   "source": [
    "### 3. Find the vehicle that improved the most\n",
    "Find the max mpg change, and then use query or indexing to see what model it is!"
   ]
  },
  {
   "cell_type": "code",
   "execution_count": 7,
   "metadata": {},
   "outputs": [
    {
     "data": {
      "text/plain": [
       "16.53333333333334"
      ]
     },
     "execution_count": 7,
     "metadata": {},
     "output_type": "execute_result"
    }
   ],
   "source": [
    "max_change = model_mpg['mpg_change'].max()\n",
    "max_change"
   ]
  },
  {
   "cell_type": "code",
   "execution_count": 8,
   "metadata": {},
   "outputs": [
    {
     "data": {
      "text/html": [
       "<div>\n",
       "<style scoped>\n",
       "    .dataframe tbody tr th:only-of-type {\n",
       "        vertical-align: middle;\n",
       "    }\n",
       "\n",
       "    .dataframe tbody tr th {\n",
       "        vertical-align: top;\n",
       "    }\n",
       "\n",
       "    .dataframe thead th {\n",
       "        text-align: right;\n",
       "    }\n",
       "</style>\n",
       "<table border=\"1\" class=\"dataframe\">\n",
       "  <thead>\n",
       "    <tr style=\"text-align: right;\">\n",
       "      <th></th>\n",
       "      <th>cmb_mpg_2008</th>\n",
       "      <th>cmb_mpg</th>\n",
       "      <th>mpg_change</th>\n",
       "    </tr>\n",
       "    <tr>\n",
       "      <th>model</th>\n",
       "      <th></th>\n",
       "      <th></th>\n",
       "      <th></th>\n",
       "    </tr>\n",
       "  </thead>\n",
       "  <tbody>\n",
       "    <tr>\n",
       "      <th>VOLVO XC 90</th>\n",
       "      <td>15.666667</td>\n",
       "      <td>32.2</td>\n",
       "      <td>16.533333</td>\n",
       "    </tr>\n",
       "  </tbody>\n",
       "</table>\n",
       "</div>"
      ],
      "text/plain": [
       "             cmb_mpg_2008  cmb_mpg  mpg_change\n",
       "model                                         \n",
       "VOLVO XC 90     15.666667     32.2   16.533333"
      ]
     },
     "execution_count": 8,
     "metadata": {},
     "output_type": "execute_result"
    }
   ],
   "source": [
    "model_mpg[model_mpg['mpg_change'] == max_change]"
   ]
  },
  {
   "cell_type": "markdown",
   "metadata": {},
   "source": [
    "## And the winner is:"
   ]
  },
  {
   "cell_type": "markdown",
   "metadata": {},
   "source": [
    "Pandas also has a useful [`idxmax`](https://pandas.pydata.org/pandas-docs/stable/generated/pandas.DataFrame.idxmax.html) function you can use to find the index of the row containing a column's maximum value!"
   ]
  },
  {
   "cell_type": "code",
   "execution_count": 9,
   "metadata": {},
   "outputs": [
    {
     "data": {
      "text/plain": [
       "'VOLVO XC 90'"
      ]
     },
     "execution_count": 9,
     "metadata": {},
     "output_type": "execute_result"
    }
   ],
   "source": [
    "idx = model_mpg.mpg_change.idxmax()\n",
    "idx"
   ]
  },
  {
   "cell_type": "code",
   "execution_count": 10,
   "metadata": {},
   "outputs": [
    {
     "data": {
      "text/plain": [
       "cmb_mpg_2008    15.666667\n",
       "cmb_mpg         32.200000\n",
       "mpg_change      16.533333\n",
       "Name: VOLVO XC 90, dtype: float64"
      ]
     },
     "execution_count": 10,
     "metadata": {},
     "output_type": "execute_result"
    }
   ],
   "source": [
    "model_mpg.loc[idx]"
   ]
  },
  {
   "cell_type": "code",
   "execution_count": null,
   "metadata": {},
   "outputs": [],
   "source": []
  }
 ],
 "metadata": {
  "kernelspec": {
   "display_name": "Python 3",
   "language": "python",
   "name": "python3"
  },
  "language_info": {
   "codemirror_mode": {
    "name": "ipython",
    "version": 3
   },
   "file_extension": ".py",
   "mimetype": "text/x-python",
   "name": "python",
   "nbconvert_exporter": "python",
   "pygments_lexer": "ipython3",
   "version": "3.8.3"
  }
 },
 "nbformat": 4,
 "nbformat_minor": 2
}
